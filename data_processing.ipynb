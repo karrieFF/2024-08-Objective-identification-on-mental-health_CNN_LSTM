{
 "cells": [
  {
   "cell_type": "code",
   "execution_count": 1,
   "metadata": {},
   "outputs": [],
   "source": [
    "import pandas as pd\n",
    "import numpy as np\n",
    "\n",
    "#pd.set_option('display.max_rows', None)\n",
    "#coaching_time_compare"
   ]
  },
  {
   "cell_type": "markdown",
   "metadata": {},
   "source": [
    "Processing Fitbit data"
   ]
  },
  {
   "cell_type": "code",
   "execution_count": 157,
   "metadata": {},
   "outputs": [],
   "source": [
    "#fitbit data\n",
    "wear_time = pd.read_csv(\"D:\\\\EIC-Code\\\\00-Python\\\\2024-08-Objective-identification-on-mental-health_CNN_LSTM\\\\data\\\\fitbitWearTimeViaHR_merged.csv\")\n",
    "dailyactivity = pd.read_csv(\"D:\\\\EIC-Code\\\\00-Python\\\\2024-08-Objective-identification-on-mental-health_CNN_LSTM\\\\data\\\\dailyActivity_merged.csv\")\n",
    "dailyFitbitActiveZoneMinutes = pd.read_csv(\"D:\\\\EIC-Code\\\\00-Python\\\\2024-08-Objective-identification-on-mental-health_CNN_LSTM\\\\data\\\\dailyFitbitActiveZoneMinutes_merged.csv\")\n",
    "dailyHRV = pd.read_csv(\"D:\\\\EIC-Code\\\\00-Python\\\\2024-08-Objective-identification-on-mental-health_CNN_LSTM\\\\data\\\\fitbitDailyHRV_merged.csv\")\n",
    "fitbitBreathingRate = pd.read_csv(\"D:\\\\EIC-Code\\\\00-Python\\\\2024-08-Objective-identification-on-mental-health_CNN_LSTM\\\\data\\\\fitbitBreathingRate_merged.csv\")\n",
    "fitbitSkinTemperature = pd.read_csv(\"D:\\\\EIC-Code\\\\00-Python\\\\2024-08-Objective-identification-on-mental-health_CNN_LSTM\\\\data\\\\fitbitSkinTemperature_merged.csv\")\n",
    "sleepDay = pd.read_csv(\"D:\\\\EIC-Code\\\\00-Python\\\\2024-08-Objective-identification-on-mental-health_CNN_LSTM\\\\data\\\\sleepDay_merged.csv\")\n",
    "heartrate_15min = pd.read_csv(\"D:\\\\EIC-Code\\\\00-Python\\\\2024-08-Objective-identification-on-mental-health_CNN_LSTM\\\\data\\\\heartrate_15min_merged.csv\")\n",
    "sleepStageLogInfo = pd.read_csv(\"D:\\\\EIC-Code\\\\00-Python\\\\2024-08-Objective-identification-on-mental-health_CNN_LSTM\\\\data\\\\sleepStagesDay_merged.csv\")\n",
    "\n",
    "#survey data\n",
    "survey_data = pd.read_csv(\"D:\\\\EIC-Code\\\\00-Python\\\\2024-08-Objective-identification-on-mental-health_CNN_LSTM\\\\data\\\\ABriefInterventionTo_DATA_2024-09-22_1540.csv\")\n",
    "\n",
    "#coach data\n",
    "coach_time = pd.read_excel(\"D:\\\\EIC-Code\\\\00-Python\\\\2024-08-Objective-identification-on-mental-health_CNN_LSTM\\\\data\\\\caoching_time.xlsx\")"
   ]
  },
  {
   "cell_type": "code",
   "execution_count": 4,
   "metadata": {},
   "outputs": [],
   "source": [
    "dailyactivity.rename(columns = {'ActivityDate':'date'}, inplace=True)\n",
    "wear_time.rename(columns = {'Day':'date'}, inplace=True)\n",
    "dailyFitbitActiveZoneMinutes.rename(columns = {'Date':'date'}, inplace=True)\n",
    "dailyHRV.rename(columns = {'SleepDay':'date'}, inplace=True)\n",
    "fitbitBreathingRate.rename(columns = {'SleepDay':'date'}, inplace = True)\n",
    "fitbitSkinTemperature.rename(columns = {'SleepDay':'date'}, inplace=True)\n",
    "sleepDay.rename(columns = {'SleepDay':'date'}, inplace=True)\n",
    "sleepStageLogInfo.rename(columns = {'SleepDay':'date'}, inplace=True)\n",
    "heartrate_15min.rename(columns = {'Time':'date'}, inplace=True)"
   ]
  },
  {
   "cell_type": "code",
   "execution_count": null,
   "metadata": {},
   "outputs": [],
   "source": [
    "# transfer date\n",
    "total_data = [wear_time, dailyactivity, dailyFitbitActiveZoneMinutes, dailyHRV, fitbitBreathingRate, \n",
    "              fitbitSkinTemperature, sleepDay, sleepStageLogInfo, heartrate_15min]\n",
    "\n",
    "for d in total_data:\n",
    "    d['date'] = pd.to_datetime(d['date'], errors = 'coerce')\n",
    "    d['date'] = d['date'].dt.date #.strftime('%m/%d/%Y').str.replace('/0', '/')\n",
    "\n",
    "#transfer heart_rate_15 min\n",
    "heartrate_15min = heartrate_15min.groupby(by = ['Id','date']).mean().reset_index()"
   ]
  },
  {
   "cell_type": "code",
   "execution_count": 11,
   "metadata": {},
   "outputs": [],
   "source": [
    "merged1 = pd.merge(wear_time, dailyactivity, on=['Id','date'], how='left')  # inner join only keeps common dates\n",
    "merged2 = pd.merge(merged1, sleepDay, on=['Id','date'], how='left')\n",
    "merged3 = pd.merge(merged2, sleepStageLogInfo, on=['Id','date'], how='left')\n",
    "merged4 = pd.merge(merged3, heartrate_15min, on=['Id','date'], how='left')\n",
    "merged5 = pd.merge(merged4, dailyFitbitActiveZoneMinutes, on=['Id','date'], how='left')\n",
    "merged6 = pd.merge(merged5, dailyHRV, on=['Id','date'], how='left')\n",
    "merged7 = pd.merge(merged6, fitbitBreathingRate, on=['Id','date'], how='left')\n",
    "merged_final = pd.merge(merged7, fitbitSkinTemperature, on=['Id','date'], how='left')"
   ]
  },
  {
   "cell_type": "code",
   "execution_count": 12,
   "metadata": {},
   "outputs": [],
   "source": [
    "\n",
    "merged_final_10 = merged_final[(merged_final['TotalMinutesWearTime'] >= 10*60)] #10hour, what's the meaning of four days a week, is this for calendar week or four consecutive days\n",
    "merged_0_3000steps = merged_final[(merged_final['TotalMinutesWearTime'] == 0) & (merged_final['TotalSteps'] >= 3000)]\n",
    "\n",
    "merged_final = pd.concat([merged_final_10, merged_0_3000steps])\n",
    "merged_final = merged_final.sort_values(by=['Id', 'date']) \n",
    "\n",
    "#rename ID\n",
    "merged_final['Id'] = [items[-3:] for items in merged_final['Id']]\n",
    "merged_final['Id'] = [int(digit) for digit in merged_final['Id']]"
   ]
  },
  {
   "cell_type": "markdown",
   "metadata": {},
   "source": [
    "Survey data, find sepecific coaching time"
   ]
  },
  {
   "cell_type": "code",
   "execution_count": null,
   "metadata": {},
   "outputs": [
    {
     "name": "stderr",
     "output_type": "stream",
     "text": [
      "C:\\Users\\karri\\AppData\\Local\\Temp\\ipykernel_21020\\608329705.py:19: SettingWithCopyWarning: \n",
      "A value is trying to be set on a copy of a slice from a DataFrame\n",
      "\n",
      "See the caveats in the documentation: https://pandas.pydata.org/pandas-docs/stable/user_guide/indexing.html#returning-a-view-versus-a-copy\n",
      "  select_survey.rename(columns = {\"record_id\":'Id'}, inplace=True)\n",
      "C:\\Users\\karri\\AppData\\Local\\Temp\\ipykernel_21020\\608329705.py:22: SettingWithCopyWarning: \n",
      "A value is trying to be set on a copy of a slice from a DataFrame.\n",
      "Try using .loc[row_indexer,col_indexer] = value instead\n",
      "\n",
      "See the caveats in the documentation: https://pandas.pydata.org/pandas-docs/stable/user_guide/indexing.html#returning-a-view-versus-a-copy\n",
      "  select_survey['weeks_followup_survey_timestamp'] = pd.to_datetime(select_survey['weeks_followup_survey_timestamp'], errors = 'coerce' )\n",
      "C:\\Users\\karri\\AppData\\Local\\Temp\\ipykernel_21020\\608329705.py:23: SettingWithCopyWarning: \n",
      "A value is trying to be set on a copy of a slice from a DataFrame.\n",
      "Try using .loc[row_indexer,col_indexer] = value instead\n",
      "\n",
      "See the caveats in the documentation: https://pandas.pydata.org/pandas-docs/stable/user_guide/indexing.html#returning-a-view-versus-a-copy\n",
      "  select_survey['weeks_followup_survey_timestamp'] = select_survey['weeks_followup_survey_timestamp'].dt.date\n",
      "C:\\Users\\karri\\AppData\\Local\\Temp\\ipykernel_21020\\608329705.py:24: SettingWithCopyWarning: \n",
      "A value is trying to be set on a copy of a slice from a DataFrame.\n",
      "Try using .loc[row_indexer,col_indexer] = value instead\n",
      "\n",
      "See the caveats in the documentation: https://pandas.pydata.org/pandas-docs/stable/user_guide/indexing.html#returning-a-view-versus-a-copy\n",
      "  select_survey['weeks_followup_survey_96ac_timestamp'] = pd.to_datetime(select_survey['weeks_followup_survey_96ac_timestamp'], errors = 'coerce' )\n",
      "C:\\Users\\karri\\AppData\\Local\\Temp\\ipykernel_21020\\608329705.py:25: SettingWithCopyWarning: \n",
      "A value is trying to be set on a copy of a slice from a DataFrame.\n",
      "Try using .loc[row_indexer,col_indexer] = value instead\n",
      "\n",
      "See the caveats in the documentation: https://pandas.pydata.org/pandas-docs/stable/user_guide/indexing.html#returning-a-view-versus-a-copy\n",
      "  select_survey['weeks_followup_survey_96ac_timestamp'] = select_survey['weeks_followup_survey_96ac_timestamp'].dt.date\n"
     ]
    }
   ],
   "source": [
    "survey_data['health_coach_survey_complete'].value_counts()\n",
    "\n",
    "#select people who complete health coach session and the second follow-up\n",
    "survey_data_clean = survey_data[survey_data['weeks_followup_survey_96ac_complete'] == 2] #87 participants\n",
    "\n",
    "#select variables from survey\n",
    "uses_vars_of_survey = ['record_id','current_status',\n",
    "'demographics_age','demographics_sex','demographics_sexorient','demographics_ethnicity','demographics_immigration',\n",
    "'demographics_race___1', 'demographics_race___2', 'demographics_race___3', 'demographics_race___4', 'demographics_race___5', \n",
    "'demographics_race___6', 'demographics_race___7', 'demographics_education', 'demographics_sorority',\n",
    "'nervous_v1', 'down_v1', 'calm_v1', 'blue_v1', 'happy_v1',\n",
    "'nervous_v2', 'down_v2', 'calm_v2', 'blue_v2', 'happy_v2',\n",
    "'weeks_followup_survey_complete','weeks_followup_survey_96ac_complete',\n",
    "'weeks_followup_survey_timestamp', 'weeks_followup_survey_96ac_timestamp'\n",
    "]\n",
    "select_survey = survey_data_clean[uses_vars_of_survey] #have the demongraphic information\n",
    "\n",
    "#rename the name of record_id\n",
    "select_survey.rename(columns = {\"record_id\":'Id'}, inplace=True)\n",
    "\n",
    "#reframe the date time format\n",
    "select_survey['weeks_followup_survey_timestamp'] = pd.to_datetime(select_survey['weeks_followup_survey_timestamp'], errors = 'coerce' )\n",
    "select_survey['weeks_followup_survey_timestamp'] = select_survey['weeks_followup_survey_timestamp'].dt.date\n",
    "select_survey['weeks_followup_survey_96ac_timestamp'] = pd.to_datetime(select_survey['weeks_followup_survey_96ac_timestamp'], errors = 'coerce' )\n",
    "select_survey['weeks_followup_survey_96ac_timestamp'] = select_survey['weeks_followup_survey_96ac_timestamp'].dt.date"
   ]
  },
  {
   "cell_type": "code",
   "execution_count": null,
   "metadata": {},
   "outputs": [
    {
     "data": {
      "text/plain": [
       "weeks_followup_survey_96ac_complete\n",
       "2    87\n",
       "Name: count, dtype: int64"
      ]
     },
     "execution_count": 307,
     "metadata": {},
     "output_type": "execute_result"
    }
   ],
   "source": [
    "select_survey['weeks_followup_survey_96ac_complete'].value_counts() #87 sample size, We only select the participants who completed the second follow-up"
   ]
  },
  {
   "cell_type": "code",
   "execution_count": 308,
   "metadata": {},
   "outputs": [
    {
     "data": {
      "text/plain": [
       "Series([], Name: Id, dtype: int64)"
      ]
     },
     "execution_count": 308,
     "metadata": {},
     "output_type": "execute_result"
    }
   ],
   "source": [
    "#check the individual who did not complete second follow-up survey\n",
    "select_survey[select_survey['weeks_followup_survey_96ac_complete'] == 0]['Id']\n",
    "\n",
    "# 40      42\n",
    "# 46      48\n",
    "# 67      69\n",
    "# 107    109dd\n",
    "# 112    114\n",
    "# 123    125\n",
    "# 129    131\n",
    "# 132    134\n",
    "# 149    151"
   ]
  },
  {
   "cell_type": "markdown",
   "metadata": {},
   "source": [
    "Merge Fitbit data with coaching time"
   ]
  },
  {
   "cell_type": "code",
   "execution_count": 309,
   "metadata": {},
   "outputs": [],
   "source": [
    "fitbit_data = merged_final.copy()\n",
    "\n",
    "#replace code 98 as 107 because the code of this participant is 107 in survey\n",
    "fitbit_data.loc[fitbit_data['Id'] == 98, 'Id'] = 107"
   ]
  },
  {
   "cell_type": "code",
   "execution_count": 311,
   "metadata": {},
   "outputs": [
    {
     "name": "stderr",
     "output_type": "stream",
     "text": [
      "C:\\Users\\karri\\AppData\\Local\\Temp\\ipykernel_21020\\1194012362.py:10: SettingWithCopyWarning: \n",
      "A value is trying to be set on a copy of a slice from a DataFrame\n",
      "\n",
      "See the caveats in the documentation: https://pandas.pydata.org/pandas-docs/stable/user_guide/indexing.html#returning-a-view-versus-a-copy\n",
      "  used_fitbit_data.rename(columns = {'TotalMinutesAsleep_x':'TotalMinutesAsleep','TotalTimeInBed_x':'TotalMinutesinbed',\n"
     ]
    }
   ],
   "source": [
    "used_var = ['Id','date','TotalMinutesWearTime', 'TotalSteps', 'VeryActiveMinutes', 'FairlyActiveMinutes',\n",
    "       'LightlyActiveMinutes', 'SedentaryMinutes', 'Calories', 'RestingHeartRate','TotalActiveZoneMinutes', 'FatBurnActiveZoneMinutes',\n",
    "       'CardioActiveZoneMinutes', 'PeakActiveZoneMinutes', 'DailyRMSSD', 'DeepRMSSD',\n",
    "       'AvgBreathsPerMinute', 'LightSleepAvgBreathsPerMinute','DeepSleepAvgBreathsPerMinute', 'REMSleepAvgBreathsPerMinute',\n",
    "       'TotalMinutesAsleep_x', 'TotalTimeInBed_x', 'TotalTimeAwake', 'TotalMinutesLight', \n",
    "       'TotalMinutesDeep','TotalMinutesREM', 'NightlyRelative', 'Value'] #delete 'Above', 'Below', Custom Zone; NightlyRelative represents ski temparature\n",
    "\n",
    "used_fitbit_data = fitbit_data[used_var]\n",
    "\n",
    "used_fitbit_data.rename(columns = {'TotalMinutesAsleep_x':'TotalMinutesAsleep','TotalTimeInBed_x':'TotalMinutesinbed',\n",
    "                                   'TotalTimeAwake': 'TotalMinutesAwake',\n",
    "                                   'Value': 'HR',\n",
    "                                   'NightlyRelative': 'skin_temparature'}, \n",
    "                                   inplace = True)\n",
    "\n",
    "#select participants matched with survey\n",
    "all_survey_id = select_survey['Id'].unique()\n",
    "used_fitbit_data = used_fitbit_data[used_fitbit_data['Id'].isin(all_survey_id)]\n",
    "\n",
    "#add another column Fitbit data\n",
    "used_fitbit_data.insert(loc = 2, column = 'survey_date', value = np.nan)"
   ]
  },
  {
   "cell_type": "code",
   "execution_count": 351,
   "metadata": {},
   "outputs": [],
   "source": [
    "# impute time sequence data\n",
    "time_sequency = used_fitbit_data.copy()\n",
    "all_fitbit_id = time_sequency['Id'].unique()\n",
    "new_data_frame = pd.DataFrame()\n",
    "\n",
    "for i in range(len(all_fitbit_id)):\n",
    "\n",
    "    fitbit_id = all_fitbit_id[i]\n",
    "\n",
    "    sorted_individual = time_sequency[time_sequency['Id'] == fitbit_id].sort_values(by = 'date')\n",
    "    \n",
    "    #outcome variable\n",
    "    individual_survey = select_survey[select_survey['Id'] == fitbit_id]\n",
    "    followup1_time = individual_survey['weeks_followup_survey_timestamp'].iloc[0] if not individual_survey['weeks_followup_survey_timestamp'].empty else pd.NaT\n",
    "    followup2_time = individual_survey['weeks_followup_survey_96ac_timestamp'].iloc[0] if not individual_survey['weeks_followup_survey_96ac_timestamp'].empty else pd.NaT\n",
    "    \n",
    "    \n",
    "    start_date = sorted_individual['date'].iloc[0]\n",
    "    end_date = followup2_time\n",
    "    \n",
    "    full_date_range = pd.date_range(start=start_date, end=end_date)\n",
    "\n",
    "    sorted_individual.set_index('date', inplace=True)\n",
    "    \n",
    "    sorted_individual_reindexed = sorted_individual.reindex(full_date_range).reset_index().fillna(0) #reset the wrong index\n",
    "    sorted_individual_reindexed['Id'] = fitbit_id\n",
    "    sorted_individual_reindexed.rename(columns = {'index':'date'}, inplace = True)\n",
    "\n",
    "    new_data_frame = pd.concat([new_data_frame, sorted_individual_reindexed])"
   ]
  },
  {
   "cell_type": "code",
   "execution_count": null,
   "metadata": {},
   "outputs": [],
   "source": [
    "def assign_survey_date(row, followup1_time, followup2_time):\n",
    "    time = row['date']\n",
    "    \n",
    "    if pd.isna(followup2_time):\n",
    "        if pd.notna(time) and time < followup1_time:\n",
    "            return 1\n",
    "        if pd.notna(time) and time == followup1_time:\n",
    "            return 2\n",
    "    \n",
    "    elif pd.notna(followup2_time):\n",
    "        if pd.notna(time) and time < followup1_time:\n",
    "            return 1\n",
    "        if pd.notna(time) and time == followup1_time:\n",
    "            return 2\n",
    "        if pd.notna(time) and followup1_time < time < followup2_time:\n",
    "            return 3\n",
    "        if pd.notna(time) and time == followup2_time:\n",
    "            return 4\n",
    "    \n",
    "    return None"
   ]
  },
  {
   "cell_type": "code",
   "execution_count": 391,
   "metadata": {},
   "outputs": [],
   "source": [
    "def assign_survey_date(time, followup1_time, followup2_time):\n",
    "    if time < followup1_time:\n",
    "        return 1\n",
    "    elif time == followup1_time:\n",
    "        return 2\n",
    "    elif followup1_time < time < followup2_time:\n",
    "        return 3\n",
    "    elif time == followup2_time:\n",
    "        return 4\n",
    "    \n",
    "    return None"
   ]
  },
  {
   "cell_type": "code",
   "execution_count": 397,
   "metadata": {},
   "outputs": [],
   "source": [
    "new_used_fitbit_data = new_data_frame.copy()\n",
    "\n",
    "for i in range(len(all_fitbit_id)):\n",
    "\n",
    "    fitbit_id = all_fitbit_id[i]\n",
    "    #print(fitbit_id)\n",
    "\n",
    "    #outcome variable\n",
    "    individual_survey = select_survey[select_survey['Id'] == fitbit_id]\n",
    "    \n",
    "    followup1_time = individual_survey['weeks_followup_survey_timestamp'].iloc[0] if not individual_survey['weeks_followup_survey_timestamp'].empty else pd.NaT\n",
    "    #print(followup1_time)\n",
    "    followup2_time = individual_survey['weeks_followup_survey_96ac_timestamp'].iloc[0] if not individual_survey['weeks_followup_survey_96ac_timestamp'].empty else pd.NaT\n",
    "    #print(followup2_time)\n",
    "    \n",
    "    #predictors\n",
    "    individual_fitbit = new_used_fitbit_data[new_used_fitbit_data['Id'] == fitbit_id].copy()\n",
    "\n",
    "    individual_fitbit['survey_date'] = individual_fitbit.apply(\n",
    "        lambda row: assign_survey_date(row['date'].date(), followup1_time, followup2_time), axis=1\n",
    "        )\n",
    "    \n",
    "    new_used_fitbit_data.loc[new_used_fitbit_data['Id'] == fitbit_id, 'survey_date'] = individual_fitbit['survey_date'] #replace with new define"
   ]
  },
  {
   "cell_type": "code",
   "execution_count": 400,
   "metadata": {},
   "outputs": [],
   "source": [
    "#Add coach variable\n",
    "fitbit_coach = new_used_fitbit_data.copy()\n",
    "\n",
    "#fitbit_coach.insert(loc = 3, column = 'coach_date', value = np.nan)\n",
    "coach_time['Health Coach Session'] = pd.to_datetime(coach_time['Health Coach Session'])\n",
    "\n",
    "all_fitbit_id = time_sequency['Id'].unique()\n",
    "\n",
    "for ID in all_fitbit_id:\n",
    "    individul_person = fitbit_coach[fitbit_coach['Id'] == ID]\n",
    "    individual_coach_time = coach_time[coach_time['ID'] == ID]['Health Coach Session'].iloc[0]\n",
    "\n",
    "    for date in individul_person['date']:\n",
    "        if date == individual_coach_time:\n",
    "            fitbit_coach.loc[(fitbit_coach['Id'] == ID) & (fitbit_coach['date'] == date), 'coach_date'] = 1\n",
    "        else:\n",
    "            fitbit_coach.loc[(fitbit_coach['Id'] == ID) & (fitbit_coach['date'] == date), 'coach_date'] = 0"
   ]
  },
  {
   "cell_type": "markdown",
   "metadata": {},
   "source": [
    "Merge fitbit data with survey data"
   ]
  },
  {
   "cell_type": "code",
   "execution_count": 415,
   "metadata": {},
   "outputs": [
    {
     "name": "stderr",
     "output_type": "stream",
     "text": [
      "C:\\Users\\karri\\AppData\\Local\\Temp\\ipykernel_21020\\2954688467.py:2: SettingWithCopyWarning: \n",
      "A value is trying to be set on a copy of a slice from a DataFrame.\n",
      "Try using .loc[row_indexer,col_indexer] = value instead\n",
      "\n",
      "See the caveats in the documentation: https://pandas.pydata.org/pandas-docs/stable/user_guide/indexing.html#returning-a-view-versus-a-copy\n",
      "  select_survey['mental_health_1'] = select_survey[['nervous_v1', 'down_v1', 'calm_v1','blue_v1', 'happy_v1']].mean(axis = 1)\n",
      "C:\\Users\\karri\\AppData\\Local\\Temp\\ipykernel_21020\\2954688467.py:3: SettingWithCopyWarning: \n",
      "A value is trying to be set on a copy of a slice from a DataFrame.\n",
      "Try using .loc[row_indexer,col_indexer] = value instead\n",
      "\n",
      "See the caveats in the documentation: https://pandas.pydata.org/pandas-docs/stable/user_guide/indexing.html#returning-a-view-versus-a-copy\n",
      "  select_survey['mental_health_2'] = select_survey[['nervous_v2', 'down_v2', 'calm_v2','blue_v2', 'happy_v2']].mean(axis = 1)\n"
     ]
    }
   ],
   "source": [
    "# The average of the five responses were used for data analysis\n",
    "select_survey['mental_health_1'] = select_survey[['nervous_v1', 'down_v1', 'calm_v1','blue_v1', 'happy_v1']].mean(axis = 1)\n",
    "select_survey['mental_health_2'] = select_survey[['nervous_v2', 'down_v2', 'calm_v2','blue_v2', 'happy_v2']].mean(axis = 1)"
   ]
  },
  {
   "cell_type": "code",
   "execution_count": 416,
   "metadata": {},
   "outputs": [
    {
     "name": "stderr",
     "output_type": "stream",
     "text": [
      "C:\\Users\\karri\\AppData\\Local\\Temp\\ipykernel_21020\\965030629.py:6: SettingWithCopyWarning: \n",
      "A value is trying to be set on a copy of a slice from a DataFrame.\n",
      "Try using .loc[row_indexer,col_indexer] = value instead\n",
      "\n",
      "See the caveats in the documentation: https://pandas.pydata.org/pandas-docs/stable/user_guide/indexing.html#returning-a-view-versus-a-copy\n",
      "  recode_demographic_variable['demographic'] = np.nan\n",
      "C:\\Users\\karri\\AppData\\Local\\Temp\\ipykernel_21020\\965030629.py:7: SettingWithCopyWarning: \n",
      "A value is trying to be set on a copy of a slice from a DataFrame.\n",
      "Try using .loc[row_indexer,col_indexer] = value instead\n",
      "\n",
      "See the caveats in the documentation: https://pandas.pydata.org/pandas-docs/stable/user_guide/indexing.html#returning-a-view-versus-a-copy\n",
      "  recode_demographic_variable['Id'] = select_survey['Id']\n",
      "C:\\Users\\karri\\AppData\\Local\\Temp\\ipykernel_21020\\965030629.py:39: SettingWithCopyWarning: \n",
      "A value is trying to be set on a copy of a slice from a DataFrame.\n",
      "Try using .loc[row_indexer,col_indexer] = value instead\n",
      "\n",
      "See the caveats in the documentation: https://pandas.pydata.org/pandas-docs/stable/user_guide/indexing.html#returning-a-view-versus-a-copy\n",
      "  select_survey['demographics_race'] =  recode_demographic_variable['demographic']\n"
     ]
    }
   ],
   "source": [
    "#recode demongraphic variable\n",
    "all_fitbit_id = time_sequency['Id'].unique()\n",
    "var = ['demographics_race___1','demographics_race___2','demographics_race___3','demographics_race___4',\n",
    "       'demographics_race___5','demographics_race___6','demographics_race___7']\n",
    "recode_demographic_variable = select_survey[var]\n",
    "recode_demographic_variable['demographic'] = np.nan\n",
    "recode_demographic_variable['Id'] = select_survey['Id']\n",
    "\n",
    "#1: demographics_race___1 = 1\n",
    "#2: demographics_race___2 = 1\n",
    "#3: demographics_race___3 = 3\n",
    "#4: demographics_race___4 = 4\n",
    "#5: demographics_race___5 = 5\n",
    "#6: demographics_race___6 = 6\n",
    "#7: demographics_race___7 = 7\n",
    "#8: multiple_race = 8\n",
    "\n",
    "# Recoding logic\n",
    "for i in all_fitbit_id:\n",
    "    row = recode_demographic_variable[recode_demographic_variable['Id'] == i][var]\n",
    "    # Check if there are multiple races selected\n",
    "    if row.sum(axis=1).iloc[0] > 1:\n",
    "        recode_demographic_variable.loc[recode_demographic_variable['Id'] == i, 'demographic'] = 8  # Multiple races\n",
    "    elif row['demographics_race___1'].iloc[0] == 1:\n",
    "        recode_demographic_variable.loc[recode_demographic_variable['Id'] == i, 'demographic'] = 1\n",
    "    elif row['demographics_race___2'].iloc[0] == 1:\n",
    "        recode_demographic_variable.loc[recode_demographic_variable['Id'] == i, 'demographic'] = 2\n",
    "    elif row['demographics_race___3'].iloc[0] == 1:\n",
    "        recode_demographic_variable.loc[recode_demographic_variable['Id'] == i, 'demographic'] = 3\n",
    "    elif row['demographics_race___4'].iloc[0] == 1:\n",
    "        recode_demographic_variable.loc[recode_demographic_variable['Id'] == i, 'demographic'] = 4\n",
    "    elif row['demographics_race___5'].iloc[0] == 1:\n",
    "        recode_demographic_variable.loc[recode_demographic_variable['Id'] == i, 'demographic'] = 5\n",
    "    elif row['demographics_race___6'].iloc[0] == 1:\n",
    "        recode_demographic_variable.loc[recode_demographic_variable['Id'] == i, 'demographic'] = 6\n",
    "    elif row['demographics_race___7'].iloc[0] == 1:\n",
    "        recode_demographic_variable.loc[recode_demographic_variable['Id'] == i, 'demographic'] = 7\n",
    "\n",
    "select_survey['demographics_race'] =  recode_demographic_variable['demographic']"
   ]
  },
  {
   "cell_type": "code",
   "execution_count": 417,
   "metadata": {},
   "outputs": [],
   "source": [
    "used_variables = ['Id', 'current_status','demographics_age','demographics_sex','demographics_sexorient',\n",
    "                  'demographics_ethnicity', 'demographics_immigration','demographics_race',\n",
    "                  'demographics_education', 'demographics_sorority']\n",
    "select_data = select_survey[used_variables]"
   ]
  },
  {
   "cell_type": "code",
   "execution_count": 419,
   "metadata": {},
   "outputs": [],
   "source": [
    "#merge Fitbit data with survey data\n",
    "fitbit_survey = pd.merge(fitbit_coach, select_data, on = 'Id', how = 'left')"
   ]
  },
  {
   "cell_type": "code",
   "execution_count": 428,
   "metadata": {},
   "outputs": [],
   "source": [
    "# Transpose the entire DataFrame\n",
    "fitbit_survey_transfer = fitbit_survey.copy()\n"
   ]
  },
  {
   "cell_type": "markdown",
   "metadata": {},
   "source": [
    "Convert horizontal to vertical data"
   ]
  },
  {
   "cell_type": "code",
   "execution_count": null,
   "metadata": {},
   "outputs": [],
   "source": [
    "#convert horizontal to vertical\n",
    "final_data_frame = pd.DataFrame()\n",
    "\n",
    "for i1 in range(len(all_fitbit_id)):\n",
    "    fitbit_id = all_fitbit_id[i1]\n",
    "    select_data = fitbit_survey_transfer[fitbit_survey_transfer['Id'] == fitbit_id]\n",
    "\n",
    "    len_select_data = len(select_data)\n",
    "\n",
    "    process_series = pd.Series(dtype = 'object')\n",
    "\n",
    "    for i2 in range(len_select_data):\n",
    "        row_select_data = select_data.iloc[i2].copy()\n",
    "        row_select_data.index = [str(col) + '_' + str(i2) for col in row_select_data.index] #revise the name\n",
    "        process_series = pd.concat([process_series, row_select_data])\n",
    "\n",
    "    trans_process_series = pd.DataFrame(process_series).T\n",
    "\n",
    "    final_data_frame = pd.concat([final_data_frame, trans_process_series], axis = 0, ignore_index=True)\n",
    "\n",
    "final_data_frame = final_data_frame.set_index(['Id_0'])#set ID and date as index\n",
    "final_data_frame = final_data_frame.drop(final_data_frame.filter(regex = 'Id').columns, axis = 1) #delete column with the same format\n",
    "final_data_frame.reset_index(inplace=True) #reset_index\n",
    "final_data_frame.rename(columns = {'Id_0':'Id'}, inplace = True) #renamei d"
   ]
  },
  {
   "cell_type": "code",
   "execution_count": null,
   "metadata": {},
   "outputs": [],
   "source": [
    "#combine with mental health dataset\n",
    "mental_health_data = select_survey[['Id','mental_health_1','mental_health_2']]\n",
    "final_data_mental_health = pd.merge(final_data_frame, mental_health_data, on = 'Id', how = 'inner')"
   ]
  },
  {
   "cell_type": "code",
   "execution_count": 464,
   "metadata": {},
   "outputs": [],
   "source": [
    "fitbit_survey.to_csv('final_data_mental_health.csv')"
   ]
  },
  {
   "cell_type": "markdown",
   "metadata": {},
   "source": [
    "Make the participants have the same time frame"
   ]
  },
  {
   "cell_type": "code",
   "execution_count": 324,
   "metadata": {},
   "outputs": [],
   "source": [
    "time_difference = pd.to_datetime(fitbit_survey['enddate']) - fitbit_survey['startdate']\n",
    "mean_total_days = np.mean(time_difference).days\n",
    "columns = final_data_frame.columns\n",
    "add_column = list(fitbit_survey.columns[-22:])\n",
    "add_column.append('Id')\n",
    "\n",
    "suffix_range_rest = [f\"_{i}\" for i in range(mean_total_days)]\n",
    "set_all_columns_the_same = [col for col in columns if any(col.endswith(suffix) for suffix in suffix_range_rest)]\n",
    "\n",
    "reorganize_data = pd.DataFrame()\n"
   ]
  },
  {
   "cell_type": "code",
   "execution_count": 325,
   "metadata": {},
   "outputs": [],
   "source": [
    "num_i = len(time_difference)\n",
    "\n",
    "for i in range(num_i):\n",
    "    i = i\n",
    "    difference_i = time_difference[i]\n",
    "    n_days = time_difference[i].days\n",
    "\n",
    "    if n_days <= mean_total_days:\n",
    "        suffix_range = [f\"_{i}\" for i in range(mean_total_days)]\n",
    "        select_fitbit_columns = [col for col in columns if any(col.endswith(suffix) for suffix in suffix_range)]\n",
    "        used_data = pd.DataFrame(fitbit_survey.iloc[i]).T[select_fitbit_columns]\n",
    "\n",
    "    else:\n",
    "        nan_day = []\n",
    "        suffix_range_new = [f\"_{i}\" for i in range(mean_total_days+1, n_days)]\n",
    "\n",
    "        for suffixs in suffix_range_new:\n",
    "            suffix_columns = [col for col in columns if col.endswith(suffixs)]\n",
    "            \n",
    "            #print(len(suffix_columns))\n",
    "            suffix_data = fitbit_survey.iloc[i][suffix_columns]\n",
    "\n",
    "            if suffix_data.isna().all():\n",
    "                #print(True)\n",
    "                nan_day.append(suffixs)\n",
    "\n",
    "        #select data after 65\n",
    "        filter_suffix_range = [item for item in suffix_range_new if item not in nan_day]\n",
    "\n",
    "        if len(filter_suffix_range) >= mean_total_days:\n",
    "            new_filter_suffix_range = filter_suffix_range[-mean_total_days:]\n",
    "            columns_65 = [col for col in columns if any(col.endswith(suffix) for suffix in new_filter_suffix_range)]\n",
    "            columns_65_data = pd.DataFrame(fitbit_survey.iloc[i]).T[columns_65]\n",
    "            used_data = columns_65_data\n",
    "\n",
    "        else:\n",
    "            #select data before 65\n",
    "            #number of columns before 65\n",
    "            n_col = mean_total_days-len(filter_suffix_range)\n",
    "            start_number = mean_total_days-n_col\n",
    "            end_number = mean_total_days\n",
    "\n",
    "            suffix_range = [f\"_{i}\" for i in range(start_number+1, end_number+1)]\n",
    "            select_fitbit_columns = [col for col in columns if any(col.endswith(suffix) for suffix in suffix_range)]\n",
    "            before_65_data = pd.DataFrame(fitbit_survey.iloc[i]).T[select_fitbit_columns]\n",
    "\n",
    "            #select dat aafter 65\n",
    "\n",
    "            after_65_columns = [col for col in columns if any(col.endswith(suffix) for suffix in filter_suffix_range)]\n",
    "            after_65_data = pd.DataFrame(fitbit_survey.iloc[i]).T[after_65_columns]\n",
    "\n",
    "            used_data = pd.concat([before_65_data, after_65_data], axis = 1) #combine two\n",
    "\n",
    "        used_data.columns = set_all_columns_the_same\n",
    "\n",
    "    #append survey data\n",
    "    survey_data = pd.DataFrame(fitbit_survey.iloc[i]).T[add_column]\n",
    "\n",
    "    new_fitbit_survey = pd.concat([used_data, survey_data], axis = 1)\n",
    "        \n",
    "    reorganize_data = pd.concat([reorganize_data, new_fitbit_survey], axis = 0, ignore_index=True) #"
   ]
  },
  {
   "cell_type": "code",
   "execution_count": 327,
   "metadata": {},
   "outputs": [],
   "source": [
    "reorganize_data.to_csv('final_survey_fitbit_time_series_v2.csv')"
   ]
  }
 ],
 "metadata": {
  "kernelspec": {
   "display_name": "Python 3",
   "language": "python",
   "name": "python3"
  },
  "language_info": {
   "codemirror_mode": {
    "name": "ipython",
    "version": 3
   },
   "file_extension": ".py",
   "mimetype": "text/x-python",
   "name": "python",
   "nbconvert_exporter": "python",
   "pygments_lexer": "ipython3",
   "version": "3.8.9"
  }
 },
 "nbformat": 4,
 "nbformat_minor": 2
}
