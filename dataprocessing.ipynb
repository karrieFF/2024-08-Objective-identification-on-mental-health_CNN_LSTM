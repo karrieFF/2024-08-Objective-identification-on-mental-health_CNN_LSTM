{
 "cells": [
  {
   "cell_type": "code",
   "execution_count": 4,
   "metadata": {},
   "outputs": [],
   "source": [
    "import pandas as pd\n",
    "import preprocessing\n",
    "import numpy as np"
   ]
  },
  {
   "cell_type": "code",
   "execution_count": 5,
   "metadata": {},
   "outputs": [],
   "source": [
    "#fitbit data\n",
    "wear_time = pd.read_csv(\"D:\\\\EIC-Code\\\\00-Python\\\\2024-08-Objective-identification-on-mental-health_CNN_LSTM\\\\data\\\\fitbitWearTimeViaHR_merged.csv\")\n",
    "dailyactivity = pd.read_csv(\"D:\\\\EIC-Code\\\\00-Python\\\\2024-08-Objective-identification-on-mental-health_CNN_LSTM\\\\data\\\\dailyActivity_merged.csv\")\n",
    "dailyFitbitActiveZoneMinutes = pd.read_csv(\"D:\\\\EIC-Code\\\\00-Python\\\\2024-08-Objective-identification-on-mental-health_CNN_LSTM\\\\data\\\\dailyFitbitActiveZoneMinutes_merged.csv\")\n",
    "dailyHRV = pd.read_csv(\"D:\\\\EIC-Code\\\\00-Python\\\\2024-08-Objective-identification-on-mental-health_CNN_LSTM\\\\data\\\\fitbitDailyHRV_merged.csv\")\n",
    "fitbitBreathingRate = pd.read_csv(\"D:\\\\EIC-Code\\\\00-Python\\\\2024-08-Objective-identification-on-mental-health_CNN_LSTM\\\\data\\\\fitbitBreathingRate_merged.csv\")\n",
    "fitbitSkinTemperature = pd.read_csv(\"D:\\\\EIC-Code\\\\00-Python\\\\2024-08-Objective-identification-on-mental-health_CNN_LSTM\\\\data\\\\fitbitSkinTemperature_merged.csv\")\n",
    "sleepDay = pd.read_csv(\"D:\\\\EIC-Code\\\\00-Python\\\\2024-08-Objective-identification-on-mental-health_CNN_LSTM\\\\data\\\\sleepDay_merged.csv\")\n",
    "heartrate_15min = pd.read_csv(\"D:\\\\EIC-Code\\\\00-Python\\\\2024-08-Objective-identification-on-mental-health_CNN_LSTM\\\\data\\\\heartrate_15min_merged.csv\")\n",
    "sleepStageLogInfo = pd.read_csv(\"D:\\\\EIC-Code\\\\00-Python\\\\2024-08-Objective-identification-on-mental-health_CNN_LSTM\\\\data\\\\sleepStagesDay_merged.csv\")\n",
    "\n",
    "#survey data\n",
    "survey_data = pd.read_csv(\"D:\\\\EIC-Code\\\\00-Python\\\\2024-08-Objective-identification-on-mental-health_CNN_LSTM\\\\data\\\\ABriefInterventionTo_DATA_2024-09-22_1540.csv\")\n",
    "\n",
    "#coach data\n",
    "coach_time = pd.read_excel(\"D:\\\\EIC-Code\\\\00-Python\\\\2024-08-Objective-identification-on-mental-health_CNN_LSTM\\\\data\\\\caoching_time.xlsx\")\n"
   ]
  },
  {
   "cell_type": "code",
   "execution_count": 6,
   "metadata": {},
   "outputs": [
    {
     "name": "stderr",
     "output_type": "stream",
     "text": [
      "d:\\EIC-Code\\00-Python\\2024-08-Objective-identification-on-mental-health_CNN_LSTM\\preprocessing.py:24: UserWarning: Could not infer format, so each element will be parsed individually, falling back to `dateutil`. To ensure parsing is consistent and as-expected, please specify a format.\n",
      "  d['date'] = pd.to_datetime(d['date'], errors = 'coerce')\n",
      "d:\\EIC-Code\\00-Python\\2024-08-Objective-identification-on-mental-health_CNN_LSTM\\preprocessing.py:24: UserWarning: Could not infer format, so each element will be parsed individually, falling back to `dateutil`. To ensure parsing is consistent and as-expected, please specify a format.\n",
      "  d['date'] = pd.to_datetime(d['date'], errors = 'coerce')\n",
      "d:\\EIC-Code\\00-Python\\2024-08-Objective-identification-on-mental-health_CNN_LSTM\\preprocessing.py:24: UserWarning: Could not infer format, so each element will be parsed individually, falling back to `dateutil`. To ensure parsing is consistent and as-expected, please specify a format.\n",
      "  d['date'] = pd.to_datetime(d['date'], errors = 'coerce')\n",
      "d:\\EIC-Code\\00-Python\\2024-08-Objective-identification-on-mental-health_CNN_LSTM\\preprocessing.py:72: SettingWithCopyWarning: \n",
      "A value is trying to be set on a copy of a slice from a DataFrame\n",
      "\n",
      "See the caveats in the documentation: https://pandas.pydata.org/pandas-docs/stable/user_guide/indexing.html#returning-a-view-versus-a-copy\n",
      "  select_survey.rename(columns = {\"record_id\":'Id'}, inplace=True)\n",
      "d:\\EIC-Code\\00-Python\\2024-08-Objective-identification-on-mental-health_CNN_LSTM\\preprocessing.py:75: SettingWithCopyWarning: \n",
      "A value is trying to be set on a copy of a slice from a DataFrame.\n",
      "Try using .loc[row_indexer,col_indexer] = value instead\n",
      "\n",
      "See the caveats in the documentation: https://pandas.pydata.org/pandas-docs/stable/user_guide/indexing.html#returning-a-view-versus-a-copy\n",
      "  select_survey['weeks_followup_survey_timestamp'] = pd.to_datetime(select_survey['weeks_followup_survey_timestamp'], errors = 'coerce' )\n",
      "d:\\EIC-Code\\00-Python\\2024-08-Objective-identification-on-mental-health_CNN_LSTM\\preprocessing.py:76: SettingWithCopyWarning: \n",
      "A value is trying to be set on a copy of a slice from a DataFrame.\n",
      "Try using .loc[row_indexer,col_indexer] = value instead\n",
      "\n",
      "See the caveats in the documentation: https://pandas.pydata.org/pandas-docs/stable/user_guide/indexing.html#returning-a-view-versus-a-copy\n",
      "  select_survey['weeks_followup_survey_timestamp'] = select_survey['weeks_followup_survey_timestamp'].dt.date\n",
      "d:\\EIC-Code\\00-Python\\2024-08-Objective-identification-on-mental-health_CNN_LSTM\\preprocessing.py:77: SettingWithCopyWarning: \n",
      "A value is trying to be set on a copy of a slice from a DataFrame.\n",
      "Try using .loc[row_indexer,col_indexer] = value instead\n",
      "\n",
      "See the caveats in the documentation: https://pandas.pydata.org/pandas-docs/stable/user_guide/indexing.html#returning-a-view-versus-a-copy\n",
      "  select_survey['weeks_followup_survey_96ac_timestamp'] = pd.to_datetime(select_survey['weeks_followup_survey_96ac_timestamp'], errors = 'coerce' )\n",
      "d:\\EIC-Code\\00-Python\\2024-08-Objective-identification-on-mental-health_CNN_LSTM\\preprocessing.py:78: SettingWithCopyWarning: \n",
      "A value is trying to be set on a copy of a slice from a DataFrame.\n",
      "Try using .loc[row_indexer,col_indexer] = value instead\n",
      "\n",
      "See the caveats in the documentation: https://pandas.pydata.org/pandas-docs/stable/user_guide/indexing.html#returning-a-view-versus-a-copy\n",
      "  select_survey['weeks_followup_survey_96ac_timestamp'] = select_survey['weeks_followup_survey_96ac_timestamp'].dt.date\n"
     ]
    }
   ],
   "source": [
    "merged_final = preprocessing.merge_data(dailyactivity, wear_time, dailyFitbitActiveZoneMinutes, dailyHRV, fitbitBreathingRate, fitbitSkinTemperature, sleepDay, sleepStageLogInfo, heartrate_15min)\n",
    "select_survey = preprocessing.select_survey_data(survey_data)\n",
    "select_survey.to_csv('select_survey.csv')"
   ]
  },
  {
   "cell_type": "code",
   "execution_count": null,
   "metadata": {},
   "outputs": [],
   "source": [
    "fitbit_data = merged_final.copy()\n",
    "#replace code 98 as 107 because the code of this participant is 107 in survey\n",
    "fitbit_data.loc[fitbit_data['Id'] == 98, 'Id'] = 107\n",
    "\n",
    "used_var = ['Id','date','TotalMinutesWearTime', 'TotalSteps', 'VeryActiveMinutes', 'FairlyActiveMinutes',\n",
    "       'LightlyActiveMinutes', 'SedentaryMinutes', 'Calories', 'RestingHeartRate','TotalActiveZoneMinutes', 'FatBurnActiveZoneMinutes',\n",
    "       'CardioActiveZoneMinutes', 'PeakActiveZoneMinutes', 'DailyRMSSD', 'DeepRMSSD',\n",
    "       'AvgBreathsPerMinute', 'LightSleepAvgBreathsPerMinute','DeepSleepAvgBreathsPerMinute', 'REMSleepAvgBreathsPerMinute',\n",
    "       'TotalMinutesAsleep_x', 'TotalTimeInBed_x', 'TotalTimeAwake', 'TotalMinutesLight', \n",
    "       'TotalMinutesDeep','TotalMinutesREM', 'NightlyRelative', 'Value'] #delete 'Above', 'Below', Custom Zone; NightlyRelative represents ski temparature\n",
    "\n",
    "used_fitbit_data = fitbit_data[used_var]\n",
    "\n",
    "used_fitbit_data.rename(columns = {'TotalMinutesAsleep_x':'TotalMinutesAsleep','TotalTimeInBed_x':'TotalMinutesinbed',\n",
    "                                   'TotalTimeAwake': 'TotalMinutesAwake',\n",
    "                                   'Value': 'HR',\n",
    "                                   'NightlyRelative': 'skin_temparature'}, \n",
    "                                   inplace = True)\n",
    "\n",
    "#select participants matched with survey\n",
    "all_survey_id = select_survey['Id'].unique()\n",
    "used_fitbit_data = used_fitbit_data[used_fitbit_data['Id'].isin(all_survey_id)]\n",
    "filtered_data = used_fitbit_data.groupby('Id').filter(lambda x: len(x) >= 10) #select dat which data points is larger than 10"
   ]
  },
  {
   "cell_type": "code",
   "execution_count": null,
   "metadata": {},
   "outputs": [],
   "source": [
    "# impute time sequence data\n",
    "miss_imputation = preprocessing.impute_missing(filtered_data)\n",
    "\n",
    "#keep only one date\n",
    "impute_data_frame = miss_imputation.copy()\n",
    "impute_data_frame = impute_data_frame.reset_index().drop(columns = 'index')\n",
    "date = impute_data_frame.iloc[:, 0]\n",
    "impute_data_frame = impute_data_frame.drop(columns=['date'])\n",
    "impute_data_frame['date'] = date\n",
    "\n",
    "#Expand the time range in order to make the data to be time-series at the daily level because some of them missing some days data\n",
    "impute_data_frame.insert(loc = 2, column = 'survey_date', value = np.nan) #add another column Fitbit data\n",
    "new_data_frame = preprocessing.extend_time(impute_data_frame, select_survey)\n",
    "\n",
    "#recode survey data\n",
    "new_used_fitbit_data = preprocessing.recode_survey_time(new_data_frame, select_survey) #recode survey time, complete first follow-up, complete second follow-up\n",
    "\n",
    "#add coach time\n",
    "fitbit_coach = preprocessing.recode_coach_date(new_used_fitbit_data, coach_time) #recode coach date and combine with Fitbit\n",
    "\n",
    "# impute extend data\n",
    "miss_imputation2 = preprocessing.impute_missing(fitbit_coach)\n",
    "#keep only one date\n",
    "impute_data_frame2 = miss_imputation2.copy()\n",
    "impute_data_frame2 = impute_data_frame2.reset_index().drop(columns = 'index')\n",
    "date = impute_data_frame2.iloc[:, 0]\n",
    "impute_data_frame2 = impute_data_frame2.drop(columns=['date'])\n",
    "impute_data_frame2['date'] = date\n",
    "\n",
    "impute_data_frame2.to_csv('impute_data_frame2.csv')\n"
   ]
  },
  {
   "cell_type": "code",
   "execution_count": null,
   "metadata": {},
   "outputs": [],
   "source": [
    "select_survey['weeks_followup_survey_96ac_complete'].value_counts() #87 sample size, We only select the participants who completed the second follow-up\n",
    "#check the individual who did not complete second follow-up survey\n",
    "select_survey[select_survey['weeks_followup_survey_96ac_complete'] == 0]['Id']\n",
    "# 40      42\n",
    "# 46      48\n",
    "# 67      69\n",
    "# 107    109dd\n",
    "# 112    114\n",
    "# 123    125\n",
    "# 129    131\n",
    "# 132    134"
   ]
  }
 ],
 "metadata": {
  "kernelspec": {
   "display_name": "Python 3",
   "language": "python",
   "name": "python3"
  },
  "language_info": {
   "codemirror_mode": {
    "name": "ipython",
    "version": 3
   },
   "file_extension": ".py",
   "mimetype": "text/x-python",
   "name": "python",
   "nbconvert_exporter": "python",
   "pygments_lexer": "ipython3",
   "version": "3.8.9"
  }
 },
 "nbformat": 4,
 "nbformat_minor": 2
}
