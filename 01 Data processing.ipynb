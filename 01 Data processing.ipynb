{
 "cells": [
  {
   "cell_type": "code",
   "execution_count": 545,
   "metadata": {},
   "outputs": [],
   "source": [
    "import pandas as pd\n",
    "import numpy as np\n",
    "\n",
    "#pd.set_option('display.max_rows', None)\n",
    "#coaching_time_compare"
   ]
  },
  {
   "cell_type": "code",
   "execution_count": 546,
   "metadata": {},
   "outputs": [],
   "source": [
    "#fitbit data\n",
    "wear_time = pd.read_csv(\"D:\\\\EIC-Code\\\\00-Python\\\\2024-08-Objective-identification-on-mental-health_CNN_LSTM\\\\data\\\\fitbitWearTimeViaHR_merged.csv\")\n",
    "dailyactivity = pd.read_csv(\"D:\\\\EIC-Code\\\\00-Python\\\\2024-08-Objective-identification-on-mental-health_CNN_LSTM\\\\data\\\\dailyActivity_merged.csv\")\n",
    "dailyFitbitActiveZoneMinutes = pd.read_csv(\"D:\\\\EIC-Code\\\\00-Python\\\\2024-08-Objective-identification-on-mental-health_CNN_LSTM\\\\data\\\\dailyFitbitActiveZoneMinutes_merged.csv\")\n",
    "dailyHRV = pd.read_csv(\"D:\\\\EIC-Code\\\\00-Python\\\\2024-08-Objective-identification-on-mental-health_CNN_LSTM\\\\data\\\\fitbitDailyHRV_merged.csv\")\n",
    "fitbitBreathingRate = pd.read_csv(\"D:\\\\EIC-Code\\\\00-Python\\\\2024-08-Objective-identification-on-mental-health_CNN_LSTM\\\\data\\\\fitbitBreathingRate_merged.csv\")\n",
    "fitbitSkinTemperature = pd.read_csv(\"D:\\\\EIC-Code\\\\00-Python\\\\2024-08-Objective-identification-on-mental-health_CNN_LSTM\\\\data\\\\fitbitSkinTemperature_merged.csv\")\n",
    "sleepDay = pd.read_csv(\"D:\\\\EIC-Code\\\\00-Python\\\\2024-08-Objective-identification-on-mental-health_CNN_LSTM\\\\data\\\\sleepDay_merged.csv\")\n",
    "heartrate_15min = pd.read_csv(\"D:\\\\EIC-Code\\\\00-Python\\\\2024-08-Objective-identification-on-mental-health_CNN_LSTM\\\\data\\\\heartrate_15min_merged.csv\")\n",
    "sleepStageLogInfo = pd.read_csv(\"D:\\\\EIC-Code\\\\00-Python\\\\2024-08-Objective-identification-on-mental-health_CNN_LSTM\\\\data\\\\sleepStagesDay_merged.csv\")\n",
    "\n",
    "#survey data\n",
    "survey_data = pd.read_csv(\"D:\\\\EIC-Code\\\\00-Python\\\\2024-08-Objective-identification-on-mental-health_CNN_LSTM\\\\data\\\\ABriefInterventionTo_DATA_2024-09-22_1540.csv\")\n",
    "coaching_time = pd.read_excel(\"D:\\\\EIC-Code\\\\00-Python\\\\2024-08-Objective-identification-on-mental-health_CNN_LSTM\\\\data\\\\caoching_time.xlsx\")"
   ]
  },
  {
   "cell_type": "code",
   "execution_count": 547,
   "metadata": {},
   "outputs": [],
   "source": [
    "#handle heart zone\n",
    "\n",
    "hearratezone = pd.read_csv(\"D:\\\\EIC-Code\\\\00-Python\\\\2024-08-Objective-identification-on-mental-health_CNN_LSTM\\\\data\\\\heartRateZones_merged.csv\")\n",
    "hearratezone.drop(columns=['Min','Max','Calories'], inplace=True)\n",
    "hearratezone_pivoted = hearratezone.pivot_table(index=['Id', 'ActivityDay'], columns='ZoneName', values='Minutes').reset_index()\n",
    "hearratezone_pivoted.rename(columns = {'ActivityDay':'date'}, inplace = True)"
   ]
  },
  {
   "cell_type": "code",
   "execution_count": 548,
   "metadata": {},
   "outputs": [
    {
     "name": "stderr",
     "output_type": "stream",
     "text": [
      "C:\\Users\\karri\\AppData\\Local\\Temp\\ipykernel_21152\\3171284588.py:15: UserWarning: Could not infer format, so each element will be parsed individually, falling back to `dateutil`. To ensure parsing is consistent and as-expected, please specify a format.\n",
      "  d['date'] = pd.to_datetime(d['date'], errors = 'coerce')\n",
      "C:\\Users\\karri\\AppData\\Local\\Temp\\ipykernel_21152\\3171284588.py:15: UserWarning: Could not infer format, so each element will be parsed individually, falling back to `dateutil`. To ensure parsing is consistent and as-expected, please specify a format.\n",
      "  d['date'] = pd.to_datetime(d['date'], errors = 'coerce')\n",
      "C:\\Users\\karri\\AppData\\Local\\Temp\\ipykernel_21152\\3171284588.py:15: UserWarning: Could not infer format, so each element will be parsed individually, falling back to `dateutil`. To ensure parsing is consistent and as-expected, please specify a format.\n",
      "  d['date'] = pd.to_datetime(d['date'], errors = 'coerce')\n"
     ]
    }
   ],
   "source": [
    "dailyactivity.rename(columns = {'ActivityDate':'date'}, inplace=True)\n",
    "wear_time.rename(columns = {'Day':'date'}, inplace=True)\n",
    "dailyFitbitActiveZoneMinutes.rename(columns = {'Date':'date'}, inplace=True)\n",
    "dailyHRV.rename(columns = {'SleepDay':'date'}, inplace=True)\n",
    "fitbitBreathingRate.rename(columns = {'SleepDay':'date'}, inplace = True)\n",
    "fitbitSkinTemperature.rename(columns = {'SleepDay':'date'}, inplace=True)\n",
    "sleepDay.rename(columns = {'SleepDay':'date'}, inplace=True)\n",
    "sleepStageLogInfo.rename(columns = {'SleepDay':'date'}, inplace=True)\n",
    "heartrate_15min.rename(columns = {'Time':'date'}, inplace=True)\n",
    "\n",
    "#transfer date\n",
    "total_data = [wear_time, dailyactivity, dailyFitbitActiveZoneMinutes, dailyHRV, fitbitBreathingRate, \n",
    "              fitbitSkinTemperature, sleepDay, sleepStageLogInfo, heartrate_15min, hearratezone_pivoted]\n",
    "for d in total_data:\n",
    "    d['date'] = pd.to_datetime(d['date'], errors = 'coerce')\n",
    "    d['date'] = d['date'].dt.date #.strftime('%m/%d/%Y').str.replace('/0', '/')\n",
    "\n",
    "#transfer heart_rate_15 min\n",
    "heartrate_15min = heartrate_15min.groupby(by = ['Id','date']).mean().reset_index()"
   ]
  },
  {
   "cell_type": "code",
   "execution_count": 549,
   "metadata": {},
   "outputs": [
    {
     "data": {
      "text/plain": [
       "99"
      ]
     },
     "execution_count": 549,
     "metadata": {},
     "output_type": "execute_result"
    }
   ],
   "source": [
    "#delete the date if total minutes wear time smaller than 10\n",
    "wear_time_larger_10_hours = wear_time[wear_time['TotalMinutesWearTime'] >= 10*60] #10hour, what's the meaning of four days a week, is this for calendar week or four consecutive days\n",
    "len(wear_time_larger_10_hours['Id'].unique()) #99, the number of total participants"
   ]
  },
  {
   "cell_type": "code",
   "execution_count": 550,
   "metadata": {},
   "outputs": [],
   "source": [
    "merged1 = pd.merge(wear_time_larger_10_hours, dailyactivity, on=['Id','date'], how='left')  # inner join only keeps common dates\n",
    "merged2 = pd.merge(merged1, sleepDay, on=['Id','date'], how='left')\n",
    "merged3 = pd.merge(merged2, sleepStageLogInfo, on=['Id','date'], how='left')\n",
    "merged4 = pd.merge(merged3, heartrate_15min, on=['Id','date'], how='left')\n",
    "merged5 = pd.merge(merged4, dailyFitbitActiveZoneMinutes, on=['Id','date'], how='left')\n",
    "merged6 = pd.merge(merged5, dailyHRV, on=['Id','date'], how='left')\n",
    "merged7 = pd.merge(merged6, fitbitBreathingRate, on=['Id','date'], how='left')\n",
    "merged8 = pd.merge(merged7, fitbitSkinTemperature, on=['Id','date'], how='left')\n",
    "merged_final = pd.merge(merged8, hearratezone_pivoted, on=['Id','date'], how='left')"
   ]
  },
  {
   "cell_type": "code",
   "execution_count": 551,
   "metadata": {},
   "outputs": [],
   "source": [
    "#transfer Id to number only\n",
    "merged_final['Id'] = [items[-3:] for items in merged_final['Id']]\n",
    "merged_final['Id'] = [int(digit) for digit in merged_final['Id']]"
   ]
  },
  {
   "cell_type": "markdown",
   "metadata": {},
   "source": [
    "Survey data, find sepecific coaching time"
   ]
  },
  {
   "cell_type": "code",
   "execution_count": 552,
   "metadata": {},
   "outputs": [
    {
     "name": "stderr",
     "output_type": "stream",
     "text": [
      "C:\\Users\\karri\\AppData\\Local\\Temp\\ipykernel_21152\\431148340.py:9: SettingWithCopyWarning: \n",
      "A value is trying to be set on a copy of a slice from a DataFrame.\n",
      "Try using .loc[row_indexer,col_indexer] = value instead\n",
      "\n",
      "See the caveats in the documentation: https://pandas.pydata.org/pandas-docs/stable/user_guide/indexing.html#returning-a-view-versus-a-copy\n",
      "  survey_data_clean[time] = pd.to_datetime(survey_data_clean[time], errors = 'coerce' )\n",
      "C:\\Users\\karri\\AppData\\Local\\Temp\\ipykernel_21152\\431148340.py:10: SettingWithCopyWarning: \n",
      "A value is trying to be set on a copy of a slice from a DataFrame.\n",
      "Try using .loc[row_indexer,col_indexer] = value instead\n",
      "\n",
      "See the caveats in the documentation: https://pandas.pydata.org/pandas-docs/stable/user_guide/indexing.html#returning-a-view-versus-a-copy\n",
      "  survey_data_clean[time] = survey_data_clean[time].dt.date #.strftime('%m/%d/%Y').str.replace('/0', '/')\n",
      "C:\\Users\\karri\\AppData\\Local\\Temp\\ipykernel_21152\\431148340.py:9: SettingWithCopyWarning: \n",
      "A value is trying to be set on a copy of a slice from a DataFrame.\n",
      "Try using .loc[row_indexer,col_indexer] = value instead\n",
      "\n",
      "See the caveats in the documentation: https://pandas.pydata.org/pandas-docs/stable/user_guide/indexing.html#returning-a-view-versus-a-copy\n",
      "  survey_data_clean[time] = pd.to_datetime(survey_data_clean[time], errors = 'coerce' )\n",
      "C:\\Users\\karri\\AppData\\Local\\Temp\\ipykernel_21152\\431148340.py:10: SettingWithCopyWarning: \n",
      "A value is trying to be set on a copy of a slice from a DataFrame.\n",
      "Try using .loc[row_indexer,col_indexer] = value instead\n",
      "\n",
      "See the caveats in the documentation: https://pandas.pydata.org/pandas-docs/stable/user_guide/indexing.html#returning-a-view-versus-a-copy\n",
      "  survey_data_clean[time] = survey_data_clean[time].dt.date #.strftime('%m/%d/%Y').str.replace('/0', '/')\n",
      "C:\\Users\\karri\\AppData\\Local\\Temp\\ipykernel_21152\\431148340.py:9: SettingWithCopyWarning: \n",
      "A value is trying to be set on a copy of a slice from a DataFrame.\n",
      "Try using .loc[row_indexer,col_indexer] = value instead\n",
      "\n",
      "See the caveats in the documentation: https://pandas.pydata.org/pandas-docs/stable/user_guide/indexing.html#returning-a-view-versus-a-copy\n",
      "  survey_data_clean[time] = pd.to_datetime(survey_data_clean[time], errors = 'coerce' )\n",
      "C:\\Users\\karri\\AppData\\Local\\Temp\\ipykernel_21152\\431148340.py:10: SettingWithCopyWarning: \n",
      "A value is trying to be set on a copy of a slice from a DataFrame.\n",
      "Try using .loc[row_indexer,col_indexer] = value instead\n",
      "\n",
      "See the caveats in the documentation: https://pandas.pydata.org/pandas-docs/stable/user_guide/indexing.html#returning-a-view-versus-a-copy\n",
      "  survey_data_clean[time] = survey_data_clean[time].dt.date #.strftime('%m/%d/%Y').str.replace('/0', '/')\n",
      "C:\\Users\\karri\\AppData\\Local\\Temp\\ipykernel_21152\\431148340.py:9: SettingWithCopyWarning: \n",
      "A value is trying to be set on a copy of a slice from a DataFrame.\n",
      "Try using .loc[row_indexer,col_indexer] = value instead\n",
      "\n",
      "See the caveats in the documentation: https://pandas.pydata.org/pandas-docs/stable/user_guide/indexing.html#returning-a-view-versus-a-copy\n",
      "  survey_data_clean[time] = pd.to_datetime(survey_data_clean[time], errors = 'coerce' )\n",
      "C:\\Users\\karri\\AppData\\Local\\Temp\\ipykernel_21152\\431148340.py:10: SettingWithCopyWarning: \n",
      "A value is trying to be set on a copy of a slice from a DataFrame.\n",
      "Try using .loc[row_indexer,col_indexer] = value instead\n",
      "\n",
      "See the caveats in the documentation: https://pandas.pydata.org/pandas-docs/stable/user_guide/indexing.html#returning-a-view-versus-a-copy\n",
      "  survey_data_clean[time] = survey_data_clean[time].dt.date #.strftime('%m/%d/%Y').str.replace('/0', '/')\n",
      "C:\\Users\\karri\\AppData\\Local\\Temp\\ipykernel_21152\\431148340.py:9: SettingWithCopyWarning: \n",
      "A value is trying to be set on a copy of a slice from a DataFrame.\n",
      "Try using .loc[row_indexer,col_indexer] = value instead\n",
      "\n",
      "See the caveats in the documentation: https://pandas.pydata.org/pandas-docs/stable/user_guide/indexing.html#returning-a-view-versus-a-copy\n",
      "  survey_data_clean[time] = pd.to_datetime(survey_data_clean[time], errors = 'coerce' )\n",
      "C:\\Users\\karri\\AppData\\Local\\Temp\\ipykernel_21152\\431148340.py:10: SettingWithCopyWarning: \n",
      "A value is trying to be set on a copy of a slice from a DataFrame.\n",
      "Try using .loc[row_indexer,col_indexer] = value instead\n",
      "\n",
      "See the caveats in the documentation: https://pandas.pydata.org/pandas-docs/stable/user_guide/indexing.html#returning-a-view-versus-a-copy\n",
      "  survey_data_clean[time] = survey_data_clean[time].dt.date #.strftime('%m/%d/%Y').str.replace('/0', '/')\n",
      "C:\\Users\\karri\\AppData\\Local\\Temp\\ipykernel_21152\\431148340.py:9: SettingWithCopyWarning: \n",
      "A value is trying to be set on a copy of a slice from a DataFrame.\n",
      "Try using .loc[row_indexer,col_indexer] = value instead\n",
      "\n",
      "See the caveats in the documentation: https://pandas.pydata.org/pandas-docs/stable/user_guide/indexing.html#returning-a-view-versus-a-copy\n",
      "  survey_data_clean[time] = pd.to_datetime(survey_data_clean[time], errors = 'coerce' )\n",
      "C:\\Users\\karri\\AppData\\Local\\Temp\\ipykernel_21152\\431148340.py:10: SettingWithCopyWarning: \n",
      "A value is trying to be set on a copy of a slice from a DataFrame.\n",
      "Try using .loc[row_indexer,col_indexer] = value instead\n",
      "\n",
      "See the caveats in the documentation: https://pandas.pydata.org/pandas-docs/stable/user_guide/indexing.html#returning-a-view-versus-a-copy\n",
      "  survey_data_clean[time] = survey_data_clean[time].dt.date #.strftime('%m/%d/%Y').str.replace('/0', '/')\n",
      "C:\\Users\\karri\\AppData\\Local\\Temp\\ipykernel_21152\\431148340.py:13: SettingWithCopyWarning: \n",
      "A value is trying to be set on a copy of a slice from a DataFrame\n",
      "\n",
      "See the caveats in the documentation: https://pandas.pydata.org/pandas-docs/stable/user_guide/indexing.html#returning-a-view-versus-a-copy\n",
      "  survey_data_clean.rename(columns = {'record_id':'Id'}, inplace=True)\n",
      "C:\\Users\\karri\\AppData\\Local\\Temp\\ipykernel_21152\\431148340.py:14: SettingWithCopyWarning: \n",
      "A value is trying to be set on a copy of a slice from a DataFrame.\n",
      "Try using .loc[row_indexer,col_indexer] = value instead\n",
      "\n",
      "See the caveats in the documentation: https://pandas.pydata.org/pandas-docs/stable/user_guide/indexing.html#returning-a-view-versus-a-copy\n",
      "  survey_data_clean['Id'] = [int(digit) for digit in survey_data_clean['Id']]\n"
     ]
    }
   ],
   "source": [
    "#survey data preprocessing\n",
    "survey_data['health_coach_survey_complete'].unique()\n",
    "survey_data_clean = survey_data[survey_data['health_coach_survey_complete'] == 2]#select the whose health coaching session is completed\n",
    "\n",
    "time_stamp = ['consent_and_screening_survey_timestamp','baseline_wellness_behavior_survey_timestamp','postsession_survey_timestamp',\n",
    "              'health_coach_survey_timestamp','weeks_followup_survey_timestamp','weeks_followup_survey_96ac_timestamp']\n",
    "\n",
    "for time in time_stamp:\n",
    "    survey_data_clean[time] = pd.to_datetime(survey_data_clean[time], errors = 'coerce' )\n",
    "    survey_data_clean[time] = survey_data_clean[time].dt.date #.strftime('%m/%d/%Y').str.replace('/0', '/')\n",
    "\n",
    "#transfer record ID\n",
    "survey_data_clean.rename(columns = {'record_id':'Id'}, inplace=True)\n",
    "survey_data_clean['Id'] = [int(digit) for digit in survey_data_clean['Id']]"
   ]
  },
  {
   "cell_type": "code",
   "execution_count": 553,
   "metadata": {},
   "outputs": [],
   "source": [
    "#coaching time data processing\n",
    "coaching_time.rename(columns = {'Health Coach Session':'health_coaching_time', \"ID\":'Id'}, inplace=True)\n",
    "coaching_time['health_coaching_time'] = pd.to_datetime(coaching_time['health_coaching_time'], errors = 'coerce' )\n",
    "coaching_time['health_coaching_time'] = coaching_time['health_coaching_time'].dt.date"
   ]
  },
  {
   "cell_type": "code",
   "execution_count": 554,
   "metadata": {},
   "outputs": [],
   "source": [
    "#merge it with survey data\n",
    "survey_data_coaching = pd.merge(survey_data_clean, coaching_time, on=['Id'], how='left')\n",
    "\n",
    "#math coaching time\n",
    "time_stamp = ['Id','health_coaching_time', 'health_coach_survey_timestamp', 'postsession_survey_timestamp','weeks_followup_survey_timestamp', 'weeks_followup_survey_96ac_timestamp']\n",
    "coaching_time_compare = survey_data_coaching[time_stamp]"
   ]
  },
  {
   "cell_type": "markdown",
   "metadata": {},
   "source": [
    "Merge Fitbit data with coaching time"
   ]
  },
  {
   "cell_type": "code",
   "execution_count": 555,
   "metadata": {},
   "outputs": [],
   "source": [
    "#add another column Fitbit data\n",
    "merged_final.insert(loc = 2, column = 'survey_date', value = np.nan)\n",
    "fitbit_data = merged_final.copy()"
   ]
  },
  {
   "cell_type": "code",
   "execution_count": 556,
   "metadata": {},
   "outputs": [],
   "source": [
    "#Handle duplicate: 98 and 107 is the same person, 98 has fitbit data, 107 has survey data, we keep them consistent as 107\n",
    "fitbit_data.loc[fitbit_data['Id'] == 98, 'Id'] = 1071\n",
    "fitbit_data.loc[fitbit_data['Id'] == 107, 'Id'] = 1072\n",
    "fitbit_data.loc[fitbit_data['Id'] == 1071, 'Id'] = 107\n",
    "\n",
    "#delete the participants who did not compplete health coaching session\n",
    "survey_id = survey_data_clean ['Id'].unique() #participants who complete health coaching session\n",
    "Fitbit_id = fitbit_data['Id'].unique() #participants who have fitbit data\n",
    "no_completed_coaching = [] #[32, 80, 91, 163] #\n",
    "\n",
    "for id in Fitbit_id:\n",
    "    if id not in survey_id:\n",
    "        no_completed_coaching.append(id)\n",
    "\n",
    "fitbit_data = fitbit_data[~fitbit_data['Id'].isin(no_completed_coaching)] "
   ]
  },
  {
   "cell_type": "code",
   "execution_count": 557,
   "metadata": {},
   "outputs": [],
   "source": [
    "def assign_survey_date(row, time_lst):\n",
    "    if pd.notna(time) and time_lst == row['date']:\n",
    "        return 'coach session'\n",
    "    elif pd.notna(time) and time_lst > row['date']:\n",
    "        return 'baseline'\n",
    "    elif pd.notna(time) and time_lst < row['date']:\n",
    "        return 'follow-up'\n",
    "    else:\n",
    "        return None  # In case no condition matches"
   ]
  },
  {
   "cell_type": "code",
   "execution_count": 558,
   "metadata": {},
   "outputs": [],
   "source": [
    "def seven_day_average(data):\n",
    "\n",
    "    length_baseline = len(data)\n",
    "    #calculate the week value\n",
    "    #average of total minutes wearatime\n",
    "    data_mean = data.select_dtypes(include=[np.number]).mean()\n",
    "\n",
    "    length_baseline = len(data)\n",
    "\n",
    "    ndays = pd.Series({'ndays': length_baseline}) # add the number of days within this week\n",
    "    data_mean = pd.concat([data_mean, ndays]) #the data wiht days\n",
    "\n",
    "    return data_mean\n",
    "    "
   ]
  },
  {
   "cell_type": "code",
   "execution_count": 559,
   "metadata": {},
   "outputs": [],
   "source": [
    "def baseline(baseline_data):\n",
    "\n",
    "    len_baseline = len(baseline_data)\n",
    "\n",
    "    #calculate the baseline\n",
    "    if len_baseline != 0:\n",
    "        \n",
    "        if len_baseline >= 7:\n",
    "            all_index = list(baseline_data.index)\n",
    "            index_last_seven_days = all_index[-7:]\n",
    "            baseline_last_seven = baseline_data.loc[index_last_seven_days] #revise select data to basline\n",
    "        else: \n",
    "            baseline_last_seven = baseline_data\n",
    "\n",
    "        baseline_mean = seven_day_average(baseline_last_seven)\n",
    "        baseline_mean.index = [str(col) + '_baseline' for col in baseline_mean.index] #revise the name\n",
    "        \n",
    "        return baseline_mean\n",
    "    \n",
    "    else:\n",
    "        return None\n"
   ]
  },
  {
   "cell_type": "code",
   "execution_count": 560,
   "metadata": {},
   "outputs": [],
   "source": [
    "def follow_Up(follow_up_data, coach_time):\n",
    "    len_follow_up = len(follow_up_data)\n",
    "\n",
    "    if len_follow_up!=0:\n",
    "        last_day_date = follow_up_data[-1:]['date'] #last_day_date\n",
    "\n",
    "        day_difference = (last_day_date.loc[last_day_date.index[0]] - coach_time.loc[coach_time.index[0]]).days\n",
    "        \n",
    "        time_loop = int(day_difference/7)+1\n",
    "\n",
    "        next_7_days = coach_time #start day\n",
    "\n",
    "        id_average = pd.Series()\n",
    "\n",
    "        for i in range(1, time_loop+1):\n",
    "            start_day = next_7_days\n",
    "            start_index = start_day.index[0]\n",
    "\n",
    "            next_7_days = start_day + pd.Timedelta(days=7)\n",
    "            \n",
    "            next_7day_data = follow_up_data[(follow_up_data['date'] > start_day[start_index]) & (follow_up_data['date']<= next_7_days[start_index])]\n",
    "            follow_up_mean = seven_day_average(next_7day_data)\n",
    "            follow_up_mean.drop(follow_up_mean.index[0], inplace = True)\n",
    "            \n",
    "            follow_up_mean.index = [str(col) + '_week' + str(i) for col in follow_up_mean.index] #revise the name\n",
    "            \n",
    "            id_average = pd.concat([id_average, follow_up_mean])\n",
    "        \n",
    "        return id_average\n",
    "\n",
    "    else:\n",
    "        return None\n"
   ]
  },
  {
   "cell_type": "code",
   "execution_count": 561,
   "metadata": {},
   "outputs": [
    {
     "name": "stderr",
     "output_type": "stream",
     "text": [
      "C:\\Users\\karri\\AppData\\Local\\Temp\\ipykernel_21152\\2702394580.py:14: SettingWithCopyWarning: \n",
      "A value is trying to be set on a copy of a slice from a DataFrame.\n",
      "Try using .loc[row_indexer,col_indexer] = value instead\n",
      "\n",
      "See the caveats in the documentation: https://pandas.pydata.org/pandas-docs/stable/user_guide/indexing.html#returning-a-view-versus-a-copy\n",
      "  individual_fitbit_data['survey_date'] = individual_fitbit_data.apply(assign_survey_date, axis=1, time_lst = coach_time)\n"
     ]
    }
   ],
   "source": [
    "#evaluate if there is basline or not\n",
    "fitbit_id = fitbit_data['Id'].unique()\n",
    "survey_id = survey_data_coaching['Id'].unique()\n",
    "\n",
    "for i in range(len(fitbit_id)):\n",
    "\n",
    "    individual_id = fitbit_id[i]\n",
    "    if individual_id in survey_id:\n",
    "        individual_survey_data = survey_data_coaching[survey_data_coaching['Id']==individual_id]\n",
    "        ind = individual_survey_data.index[0]\n",
    "        coach_time = individual_survey_data['health_coaching_time'][ind]\n",
    "\n",
    "        individual_fitbit_data = fitbit_data[fitbit_data['Id']==individual_id]\n",
    "        individual_fitbit_data['survey_date'] = individual_fitbit_data.apply(assign_survey_date, axis=1, time_lst = coach_time)\n",
    "        fitbit_data.loc[fitbit_data['Id'] == individual_id, 'survey_date'] = individual_fitbit_data['survey_date'] #replace with new define"
   ]
  },
  {
   "cell_type": "code",
   "execution_count": 589,
   "metadata": {},
   "outputs": [
    {
     "name": "stderr",
     "output_type": "stream",
     "text": [
      "C:\\Users\\karri\\AppData\\Local\\Temp\\ipykernel_21152\\731330305.py:9: SettingWithCopyWarning: \n",
      "A value is trying to be set on a copy of a slice from a DataFrame\n",
      "\n",
      "See the caveats in the documentation: https://pandas.pydata.org/pandas-docs/stable/user_guide/indexing.html#returning-a-view-versus-a-copy\n",
      "  used_fitbit_data.rename(columns = {'TotalMinutesAsleep_x':'TotalMinutesAsleep',\n"
     ]
    }
   ],
   "source": [
    "#used variables\n",
    "used_var = ['Id','date','survey_date','TotalMinutesWearTime', 'TotalSteps', 'VeryActiveMinutes', 'FairlyActiveMinutes',\n",
    "       'LightlyActiveMinutes', 'SedentaryMinutes', 'TotalMinutesAsleep_x', 'TotalTimeInBed_x', \n",
    "        'TotalTimeAwake', 'TotalMinutesLight', 'TotalMinutesDeep','TotalMinutesREM', 'RestingHeartRate','Cardio',\n",
    "       'Fat Burn', 'Out of Range', 'Peak'] #delete 'Above', 'Below', Custom Zone\n",
    "\n",
    "used_fitbit_data = fitbit_data[used_var]\n",
    "\n",
    "used_fitbit_data.rename(columns = {'TotalMinutesAsleep_x':'TotalMinutesAsleep',\n",
    "                         'TotalTimeInBed_x':'TotalMinutesinbed',\n",
    "                         'TotalTimeAwake': 'TotalMinutesAwake'}, inplace = True)\n",
    "\n",
    "all_ids = used_fitbit_data['Id'].unique()\n",
    "\n",
    "fitbit_final_output = pd.DataFrame()\n",
    "\n",
    "#main loop\n",
    "for id in all_ids:\n",
    "    select_data = used_fitbit_data[used_fitbit_data['Id'] == id]\n",
    "    coach_time = coaching_time_compare[coaching_time_compare['Id'] == id]['health_coaching_time']\n",
    "\n",
    "    baseline_data = select_data[select_data['survey_date'] == 'baseline']\n",
    "    follow_up_data = select_data[select_data['survey_date'] == 'follow-up']\n",
    "\n",
    "    baseline_mean = baseline(baseline_data)\n",
    "    id_average = follow_Up(follow_up_data, coach_time)\n",
    "\n",
    "    baseline_follow_up = pd.concat([baseline_mean,id_average])\n",
    "    trans_baseline_follow_up = pd.DataFrame(baseline_follow_up).T\n",
    "    \n",
    "    #trans_baseline_follow_up['id'] = id\n",
    "    fitbit_final_output = pd.concat([fitbit_final_output, trans_baseline_follow_up])\n",
    "\n"
   ]
  },
  {
   "cell_type": "code",
   "execution_count": 590,
   "metadata": {},
   "outputs": [],
   "source": [
    "fitbit_final_output.to_csv('fitbit_final_output.csv')"
   ]
  },
  {
   "cell_type": "code",
   "execution_count": 565,
   "metadata": {},
   "outputs": [
    {
     "data": {
      "text/plain": [
       "95"
      ]
     },
     "execution_count": 565,
     "metadata": {},
     "output_type": "execute_result"
    }
   ],
   "source": [
    "len(fitbit_final_output) #95"
   ]
  },
  {
   "cell_type": "markdown",
   "metadata": {},
   "source": [
    "Merge fitbit data with survey data"
   ]
  },
  {
   "cell_type": "code",
   "execution_count": 579,
   "metadata": {},
   "outputs": [],
   "source": [
    "#drop non-use column name\n",
    "survey_new_data = survey_data_coaching.drop(columns = ['consent_and_screening_survey_timestamp', \n",
    "                                                     'informed_consent', \n",
    "                                                     'redcap_survey_identifier', \n",
    "                                                        'health_coach_survey_timestamp', \n",
    "                                                        'postsession_survey_timestamp',\n",
    "                                                        'consent_and_screening_survey_complete',\n",
    "                                                        'initials',\n",
    "                                                        'Participants Name',\n",
    "                                                        'initials_follow_up',\n",
    "                                                        'email_address',\n",
    "                                                        'name',\n",
    "                                                        'health_coach_survey_complete',\n",
    "                                                        'initials_post',\n",
    "                                                        'postsession_survey_complete'\n",
    "                                                        ])"
   ]
  },
  {
   "cell_type": "code",
   "execution_count": 593,
   "metadata": {},
   "outputs": [],
   "source": [
    "fitbit_final_output.rename(columns = {'Id_baseline':'Id'}, inplace=True)\n",
    "\n",
    "survey_fitbit = pd.merge(survey_new_data, fitbit_final_output, on = ['Id'], how = 'left')"
   ]
  },
  {
   "cell_type": "code",
   "execution_count": 595,
   "metadata": {},
   "outputs": [],
   "source": [
    "survey_fitbit.to_csv('final_survey_fitbit.csv')"
   ]
  },
  {
   "cell_type": "code",
   "execution_count": 489,
   "metadata": {},
   "outputs": [
    {
     "data": {
      "text/html": [
       "<div>\n",
       "<style scoped>\n",
       "    .dataframe tbody tr th:only-of-type {\n",
       "        vertical-align: middle;\n",
       "    }\n",
       "\n",
       "    .dataframe tbody tr th {\n",
       "        vertical-align: top;\n",
       "    }\n",
       "\n",
       "    .dataframe thead th {\n",
       "        text-align: right;\n",
       "    }\n",
       "</style>\n",
       "<table border=\"1\" class=\"dataframe\">\n",
       "  <thead>\n",
       "    <tr style=\"text-align: right;\">\n",
       "      <th></th>\n",
       "      <th>Id_baseline</th>\n",
       "      <th>TotalMinutesWearTime_baseline</th>\n",
       "      <th>TotalSteps_baseline</th>\n",
       "      <th>VeryActiveMinutes_baseline</th>\n",
       "      <th>FairlyActiveMinutes_baseline</th>\n",
       "      <th>LightlyActiveMinutes_baseline</th>\n",
       "      <th>SedentaryMinutes_baseline</th>\n",
       "      <th>TotalMinutesAsleep_x_baseline</th>\n",
       "      <th>TotalTimeInBed_x_baseline</th>\n",
       "      <th>TotalTimeAwake_baseline</th>\n",
       "      <th>...</th>\n",
       "      <th>TotalTimeAwake_week23</th>\n",
       "      <th>TotalMinutesLight_week23</th>\n",
       "      <th>TotalMinutesDeep_week23</th>\n",
       "      <th>TotalMinutesREM_week23</th>\n",
       "      <th>RestingHeartRate_week23</th>\n",
       "      <th>Cardio_week23</th>\n",
       "      <th>Fat Burn_week23</th>\n",
       "      <th>Out of Range_week23</th>\n",
       "      <th>Peak_week23</th>\n",
       "      <th>ndays_week23</th>\n",
       "    </tr>\n",
       "  </thead>\n",
       "  <tbody>\n",
       "    <tr>\n",
       "      <th>0</th>\n",
       "      <td>24.0</td>\n",
       "      <td>1370.428571</td>\n",
       "      <td>7503.714286</td>\n",
       "      <td>47.714286</td>\n",
       "      <td>28.857143</td>\n",
       "      <td>145.0</td>\n",
       "      <td>689.0</td>\n",
       "      <td>475.0</td>\n",
       "      <td>529.428571</td>\n",
       "      <td>57.571429</td>\n",
       "      <td>...</td>\n",
       "      <td>NaN</td>\n",
       "      <td>NaN</td>\n",
       "      <td>NaN</td>\n",
       "      <td>NaN</td>\n",
       "      <td>NaN</td>\n",
       "      <td>NaN</td>\n",
       "      <td>NaN</td>\n",
       "      <td>NaN</td>\n",
       "      <td>NaN</td>\n",
       "      <td>0.0</td>\n",
       "    </tr>\n",
       "  </tbody>\n",
       "</table>\n",
       "<p>1 rows × 456 columns</p>\n",
       "</div>"
      ],
      "text/plain": [
       "   Id_baseline  TotalMinutesWearTime_baseline  TotalSteps_baseline  \\\n",
       "0         24.0                    1370.428571          7503.714286   \n",
       "\n",
       "   VeryActiveMinutes_baseline  FairlyActiveMinutes_baseline  \\\n",
       "0                   47.714286                     28.857143   \n",
       "\n",
       "   LightlyActiveMinutes_baseline  SedentaryMinutes_baseline  \\\n",
       "0                          145.0                      689.0   \n",
       "\n",
       "   TotalMinutesAsleep_x_baseline  TotalTimeInBed_x_baseline  \\\n",
       "0                          475.0                 529.428571   \n",
       "\n",
       "   TotalTimeAwake_baseline  ...  TotalTimeAwake_week23  \\\n",
       "0                57.571429  ...                    NaN   \n",
       "\n",
       "   TotalMinutesLight_week23  TotalMinutesDeep_week23  TotalMinutesREM_week23  \\\n",
       "0                       NaN                      NaN                     NaN   \n",
       "\n",
       "   RestingHeartRate_week23  Cardio_week23  Fat Burn_week23  \\\n",
       "0                      NaN            NaN              NaN   \n",
       "\n",
       "   Out of Range_week23  Peak_week23  ndays_week23  \n",
       "0                  NaN          NaN           0.0  \n",
       "\n",
       "[1 rows x 456 columns]"
      ]
     },
     "execution_count": 489,
     "metadata": {},
     "output_type": "execute_result"
    }
   ],
   "source": [
    "#check if the there is Fitbit data in coaching time\n",
    "ids = fitbit_data['Id'].unique()\n",
    "i = 0\n",
    "for id in ids:\n",
    "    person_day = fitbit_data[fitbit_data['Id']==id]\n",
    "    \n",
    "    if person_day['survey_date'].str.contains(\"coach session\").any():\n",
    "        coach_date = person_day[person_day['survey_date'] == 'coach session']['date']\n",
    "        print(id,coach_date)\n",
    "        \n",
    "    else:\n",
    "        i=i+1\n",
    "        print(id)\n",
    "\n",
    "\n",
    "print(len(ids),i) #99, 18 no coach time\n",
    "\n",
    "\n",
    "ids = fitbit_data['Id'].unique()\n",
    "a = 0\n",
    "for i in ids:\n",
    "    len_id = len(fitbit_data[fitbit_data['Id'] == i])\n",
    "    if len_id >= 60:\n",
    "        a=a+1\n",
    "print(a) #70 particiapnts have more than 50 days data; 57 participants have more than 60 days"
   ]
  },
  {
   "cell_type": "code",
   "execution_count": 447,
   "metadata": {},
   "outputs": [
    {
     "data": {
      "text/html": [
       "<div>\n",
       "<style scoped>\n",
       "    .dataframe tbody tr th:only-of-type {\n",
       "        vertical-align: middle;\n",
       "    }\n",
       "\n",
       "    .dataframe tbody tr th {\n",
       "        vertical-align: top;\n",
       "    }\n",
       "\n",
       "    .dataframe thead th {\n",
       "        text-align: right;\n",
       "    }\n",
       "</style>\n",
       "<table border=\"1\" class=\"dataframe\">\n",
       "  <thead>\n",
       "    <tr style=\"text-align: right;\">\n",
       "      <th></th>\n",
       "      <th>Id_baseline</th>\n",
       "      <th>TotalMinutesWearTime_baseline</th>\n",
       "      <th>TotalSteps_baseline</th>\n",
       "      <th>VeryActiveMinutes_baseline</th>\n",
       "      <th>FairlyActiveMinutes_baseline</th>\n",
       "      <th>LightlyActiveMinutes_baseline</th>\n",
       "      <th>SedentaryMinutes_baseline</th>\n",
       "      <th>TotalMinutesAsleep_x_baseline</th>\n",
       "      <th>TotalTimeInBed_x_baseline</th>\n",
       "      <th>TotalTimeAwake_baseline</th>\n",
       "      <th>...</th>\n",
       "      <th>RestingHeartRate_week7</th>\n",
       "      <th>Above_week7</th>\n",
       "      <th>Below_week7</th>\n",
       "      <th>Cardio_week7</th>\n",
       "      <th>Custom Zone_week7</th>\n",
       "      <th>Fat Burn_week7</th>\n",
       "      <th>Out of Range_week7</th>\n",
       "      <th>Peak_week7</th>\n",
       "      <th>ndays_week7</th>\n",
       "      <th>id</th>\n",
       "    </tr>\n",
       "  </thead>\n",
       "  <tbody>\n",
       "    <tr>\n",
       "      <th>0</th>\n",
       "      <td>113.0</td>\n",
       "      <td>1362.285714</td>\n",
       "      <td>8113.0</td>\n",
       "      <td>28.0</td>\n",
       "      <td>7.142857</td>\n",
       "      <td>165.857143</td>\n",
       "      <td>799.857143</td>\n",
       "      <td>408.714286</td>\n",
       "      <td>439.142857</td>\n",
       "      <td>60.285714</td>\n",
       "      <td>...</td>\n",
       "      <td>63.000000</td>\n",
       "      <td>NaN</td>\n",
       "      <td>NaN</td>\n",
       "      <td>0.000000</td>\n",
       "      <td>NaN</td>\n",
       "      <td>3.000000</td>\n",
       "      <td>1436.000000</td>\n",
       "      <td>0.000000</td>\n",
       "      <td>1.0</td>\n",
       "      <td>167</td>\n",
       "    </tr>\n",
       "    <tr>\n",
       "      <th>0</th>\n",
       "      <td>NaN</td>\n",
       "      <td>NaN</td>\n",
       "      <td>NaN</td>\n",
       "      <td>NaN</td>\n",
       "      <td>NaN</td>\n",
       "      <td>NaN</td>\n",
       "      <td>NaN</td>\n",
       "      <td>NaN</td>\n",
       "      <td>NaN</td>\n",
       "      <td>NaN</td>\n",
       "      <td>...</td>\n",
       "      <td>60.909091</td>\n",
       "      <td>NaN</td>\n",
       "      <td>NaN</td>\n",
       "      <td>4.363636</td>\n",
       "      <td>NaN</td>\n",
       "      <td>7.636364</td>\n",
       "      <td>1416.454545</td>\n",
       "      <td>0.090909</td>\n",
       "      <td>11.0</td>\n",
       "      <td>167</td>\n",
       "    </tr>\n",
       "  </tbody>\n",
       "</table>\n",
       "<p>2 rows × 177 columns</p>\n",
       "</div>"
      ],
      "text/plain": [
       "   Id_baseline  TotalMinutesWearTime_baseline  TotalSteps_baseline  \\\n",
       "0        113.0                    1362.285714               8113.0   \n",
       "0          NaN                            NaN                  NaN   \n",
       "\n",
       "   VeryActiveMinutes_baseline  FairlyActiveMinutes_baseline  \\\n",
       "0                        28.0                      7.142857   \n",
       "0                         NaN                           NaN   \n",
       "\n",
       "   LightlyActiveMinutes_baseline  SedentaryMinutes_baseline  \\\n",
       "0                     165.857143                 799.857143   \n",
       "0                            NaN                        NaN   \n",
       "\n",
       "   TotalMinutesAsleep_x_baseline  TotalTimeInBed_x_baseline  \\\n",
       "0                     408.714286                 439.142857   \n",
       "0                            NaN                        NaN   \n",
       "\n",
       "   TotalTimeAwake_baseline  ...  RestingHeartRate_week7  Above_week7  \\\n",
       "0                60.285714  ...               63.000000          NaN   \n",
       "0                      NaN  ...               60.909091          NaN   \n",
       "\n",
       "   Below_week7  Cardio_week7  Custom Zone_week7  Fat Burn_week7  \\\n",
       "0          NaN      0.000000                NaN        3.000000   \n",
       "0          NaN      4.363636                NaN        7.636364   \n",
       "\n",
       "   Out of Range_week7  Peak_week7  ndays_week7   id  \n",
       "0         1436.000000    0.000000          1.0  167  \n",
       "0         1416.454545    0.090909         11.0  167  \n",
       "\n",
       "[2 rows x 177 columns]"
      ]
     },
     "execution_count": 447,
     "metadata": {},
     "output_type": "execute_result"
    }
   ],
   "source": [
    "\n",
    "    "
   ]
  }
 ],
 "metadata": {
  "kernelspec": {
   "display_name": "Python 3",
   "language": "python",
   "name": "python3"
  },
  "language_info": {
   "codemirror_mode": {
    "name": "ipython",
    "version": 3
   },
   "file_extension": ".py",
   "mimetype": "text/x-python",
   "name": "python",
   "nbconvert_exporter": "python",
   "pygments_lexer": "ipython3",
   "version": "3.8.9"
  }
 },
 "nbformat": 4,
 "nbformat_minor": 2
}
